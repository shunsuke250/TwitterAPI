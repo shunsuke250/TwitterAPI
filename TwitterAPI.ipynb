{
 "cells": [
  {
   "cell_type": "code",
   "execution_count": null,
   "metadata": {
    "id": "A-slOzUV7Qyv"
   },
   "outputs": [],
   "source": [
    "pip install tweepy"
   ]
  },
  {
   "cell_type": "code",
   "execution_count": null,
   "metadata": {
    "colab": {
     "base_uri": "https://localhost:8080/"
    },
    "id": "PpO0qYpn7Sd4",
    "outputId": "21de2f94-3c6a-44a3-a27c-37b2f02704c6"
   },
   "outputs": [],
   "source": [
    "import tweepy\n",
    "import csv\n",
    "from collections import namedtuple\n",
    "from datetime import timedelta # 日本時間に直すために使用\n",
    "\n",
    "api_key = ''\n",
    "api_secret = ''\n",
    "access_token = ''\n",
    "access_secret = ''\n",
    "\n",
    "auth = tweepy.OAuthHandler(api_key,api_secret)\n",
    "auth.set_access_token(access_token,access_secret)\n",
    "api = tweepy.API(auth, wait_on_rate_limit=True, wait_on_rate_limit_notify=True) # ツイート取得の制限になった場合に15分中断する\n",
    "\n",
    "acquisition_date = \"08-24\" # ツイートを取得する日を設定(例)7月5日の時 07-05\n",
    "\n",
    "word = '-bot -RT コロナ since:2022-%s_00:00:00_JST until:2022-%s_23:59:59_JST' % (acquisition_date, acquisition_date) # 取得するワードを指定\n",
    "maxid = 0\n",
    "\n",
    "f = open('twitterAPI_%s.csv' % acquisition_date, 'w',encoding='UTF-8')\n",
    "tweetData = []\n",
    "\n",
    "while True:\n",
    "    result = api.search(q=word, lang='ja', count=100, max_id=maxid)\n",
    "    \n",
    "    print(len(result))\n",
    "    \n",
    "    if len(result)==0:\n",
    "        break\n",
    "    for res in result:\n",
    "        maxid = res.id-1\n",
    "        sc_name = res.user.screen_name # @ユーザー名\n",
    "        name = res.user.name # プロフィール名\n",
    "        desc = res.user.description # 自己紹介文\n",
    "        text = res.text.replace('\\n', '') # ツイート文\n",
    "        datetime = res.created_at + timedelta(hours=9) #　日本時間に変換\n",
    "        location = res.place # 位置情報\n",
    "\n",
    "        if 'bot' in name.lower() or 'bot' in desc.lower(): # 紹介文と名前にBOTを除く\n",
    "            continue\n",
    "        elif 'PaperbackNew' in sc_name: # PaperbackNew（ユーザー名）のツイートは取り除けない改行文字があるため除く\n",
    "            continue\n",
    "        elif 'Covid19Nara' in sc_name: # Covid19Nara（ユーザー名）のツイートは取り除けない改行文字があるため除く\n",
    "            continue\n",
    "        elif 'ScienceBookNew' in sc_name:\n",
    "            continue  \n",
    "        elif 'iHerb' in text: # iHerb最新クーポン紹介botを除く\n",
    "            continue\n",
    "\n",
    "        tweetData.append([f'{sc_name}', f'{datetime}', f'{location}', f'{text}'])\n",
    "\n",
    "    print(datetime)\n",
    "\n",
    "writer = csv.writer(f,  lineterminator=\"\\n\")\n",
    "writer.writerow([\"sc_name\", \"datetime\", \"location\", \"text\"])\n",
    "writer.writerows(tweetData)\n",
    "\n",
    "f.close()"
   ]
  }
 ],
 "metadata": {
  "colab": {
   "collapsed_sections": [],
   "provenance": []
  },
  "kernelspec": {
   "display_name": "Python 3 (ipykernel)",
   "language": "python",
   "name": "python3"
  },
  "language_info": {
   "codemirror_mode": {
    "name": "ipython",
    "version": 3
   },
   "file_extension": ".py",
   "mimetype": "text/x-python",
   "name": "python",
   "nbconvert_exporter": "python",
   "pygments_lexer": "ipython3",
   "version": "3.8.12"
  }
 },
 "nbformat": 4,
 "nbformat_minor": 4
}
