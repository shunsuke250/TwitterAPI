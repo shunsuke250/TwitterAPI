{
 "cells": [
  {
   "cell_type": "code",
   "execution_count": 4,
   "id": "34066280",
   "metadata": {
    "collapsed": true
   },
   "outputs": [
    {
     "name": "stdout",
     "output_type": "stream",
     "text": [
      "Collecting pymlask\n",
      "  Downloading pymlask-0.3.2.tar.gz (70 kB)\n",
      "\u001b[K     |████████████████████████████████| 70 kB 3.2 MB/s eta 0:00:01\n",
      "\u001b[?25hBuilding wheels for collected packages: pymlask\n",
      "  Building wheel for pymlask (setup.py) ... \u001b[?25ldone\n",
      "\u001b[?25h  Created wheel for pymlask: filename=pymlask-0.3.2-py3-none-any.whl size=74906 sha256=6314cfd87df222b65e1d07e62bb2e2d7402ae472a01bbf44f3d44d3c211528aa\n",
      "  Stored in directory: /Users/soeyamashunsuke/Library/Caches/pip/wheels/ed/94/29/90a63bd593bd5e4360b9fa41cbee01a214ce63ff3b2136c3d2\n",
      "Successfully built pymlask\n",
      "Installing collected packages: pymlask\n",
      "Successfully installed pymlask-0.3.2\n",
      "Note: you may need to restart the kernel to use updated packages.\n"
     ]
    }
   ],
   "source": [
    "pip install pymlask"
   ]
  },
  {
   "cell_type": "code",
   "execution_count": 6,
   "id": "f754dd70",
   "metadata": {
    "collapsed": true
   },
   "outputs": [
    {
     "name": "stdout",
     "output_type": "stream",
     "text": [
      "Collecting mecab\n",
      "  Downloading mecab-0.996.3.tar.gz (62 kB)\n",
      "\u001b[K     |████████████████████████████████| 62 kB 1.9 MB/s eta 0:00:011\n",
      "\u001b[?25hBuilding wheels for collected packages: mecab\n",
      "  Building wheel for mecab (setup.py) ... \u001b[?25ldone\n",
      "\u001b[?25h  Created wheel for mecab: filename=mecab-0.996.3-cp39-cp39-macosx_10_9_x86_64.whl size=36638 sha256=4f2f842423cc9c8f2bd7682c7e49ca57e0494315a6a2626a37b6613c20e424b9\n",
      "  Stored in directory: /Users/soeyamashunsuke/Library/Caches/pip/wheels/65/f1/bc/2016a2d0dc431b88be791cd23c20c0e93056bd0efc40e234b9\n",
      "Successfully built mecab\n",
      "Installing collected packages: mecab\n",
      "Successfully installed mecab-0.996.3\n",
      "Note: you may need to restart the kernel to use updated packages.\n"
     ]
    }
   ],
   "source": [
    "pip install mecab"
   ]
  },
  {
   "cell_type": "code",
   "execution_count": 3,
   "id": "4ba1ead5",
   "metadata": {},
   "outputs": [
    {
     "name": "stdout",
     "output_type": "stream",
     "text": [
      "Requirement already satisfied: tqdm in /Users/soeyamashunsuke/opt/anaconda3/lib/python3.9/site-packages (4.64.0)\r\n"
     ]
    }
   ],
   "source": [
    "!pip install tqdm"
   ]
  },
  {
   "cell_type": "code",
   "execution_count": 7,
   "id": "fd8d95d0",
   "metadata": {},
   "outputs": [
    {
     "data": {
      "text/plain": [
       "{'text': '昨日コロナワクチン3回目接種打ってきまして見事副反応…高熱で頭も痛くて前夜祭出来なかった😖😖昨日今日とでゼリー少ししか食べてないから流石にお腹すいたっ！',\n",
       " 'emotion': defaultdict(list, {'iya': ['痛い']}),\n",
       " 'orientation': 'NEGATIVE',\n",
       " 'activation': 'NEUTRAL',\n",
       " 'emoticon': None,\n",
       " 'intension': 1,\n",
       " 'intensifier': {'exclamation': ['！', '…']},\n",
       " 'representative': ('iya', ['痛い'])}"
      ]
     },
     "execution_count": 7,
     "metadata": {},
     "output_type": "execute_result"
    }
   ],
   "source": [
    "from mlask import MLAsk # テキストを以下のように感情分析できる\n",
    "emotion_analyzer = MLAsk()\n",
    "result = emotion_analyzer.analyze('昨日コロナワクチン3回目接種打ってきまして見事副反応…高熱で頭も痛くて前夜祭出来なかった😖😖昨日今日とでゼリー少ししか食べてないから流石にお腹すいたっ！')\n",
    "result"
   ]
  },
  {
   "cell_type": "code",
   "execution_count": 8,
   "id": "304a5879",
   "metadata": {},
   "outputs": [
    {
     "name": "stderr",
     "output_type": "stream",
     "text": [
      "100%|███████████████████████████████████| 93399/93399 [01:23<00:00, 1121.96it/s]\n"
     ]
    },
    {
     "data": {
      "text/html": [
       "<div>\n",
       "<style scoped>\n",
       "    .dataframe tbody tr th:only-of-type {\n",
       "        vertical-align: middle;\n",
       "    }\n",
       "\n",
       "    .dataframe tbody tr th {\n",
       "        vertical-align: top;\n",
       "    }\n",
       "\n",
       "    .dataframe thead th {\n",
       "        text-align: right;\n",
       "    }\n",
       "</style>\n",
       "<table border=\"1\" class=\"dataframe\">\n",
       "  <thead>\n",
       "    <tr style=\"text-align: right;\">\n",
       "      <th></th>\n",
       "      <th>sc_name</th>\n",
       "      <th>datetime</th>\n",
       "      <th>location</th>\n",
       "      <th>text</th>\n",
       "      <th>emotion</th>\n",
       "      <th>orientation</th>\n",
       "      <th>activation</th>\n",
       "      <th>emoticon</th>\n",
       "      <th>intension</th>\n",
       "      <th>intensifier</th>\n",
       "      <th>representative</th>\n",
       "    </tr>\n",
       "  </thead>\n",
       "  <tbody>\n",
       "    <tr>\n",
       "      <th>0</th>\n",
       "      <td>DONDELI</td>\n",
       "      <td>2022-09-05 23:59:58</td>\n",
       "      <td>None</td>\n",
       "      <td>2022年9月5日「小野昌弘先生 新型コロナ勉強会」 https://t.co/lQ7yXo...</td>\n",
       "      <td>NaN</td>\n",
       "      <td>NaN</td>\n",
       "      <td>NaN</td>\n",
       "      <td>NaN</td>\n",
       "      <td>NaN</td>\n",
       "      <td>NaN</td>\n",
       "      <td>NaN</td>\n",
       "    </tr>\n",
       "    <tr>\n",
       "      <th>1</th>\n",
       "      <td>kotori_121</td>\n",
       "      <td>2022-09-05 23:59:57</td>\n",
       "      <td>None</td>\n",
       "      <td>コロナほぼ治った〜〜！！！</td>\n",
       "      <td>NaN</td>\n",
       "      <td>NaN</td>\n",
       "      <td>NaN</td>\n",
       "      <td>NaN</td>\n",
       "      <td>NaN</td>\n",
       "      <td>NaN</td>\n",
       "      <td>NaN</td>\n",
       "    </tr>\n",
       "    <tr>\n",
       "      <th>2</th>\n",
       "      <td>Gypsy_tanabecci</td>\n",
       "      <td>2022-09-05 23:59:56</td>\n",
       "      <td>None</td>\n",
       "      <td>@anne82270281 ケンブリッジ方面かな。出身校はオックスフォードらしいですけどね。...</td>\n",
       "      <td>defaultdict(&lt;class 'list'&gt;, {'yorokobi': ['たわけ...</td>\n",
       "      <td>mostly_POSITIVE</td>\n",
       "      <td>NEUTRAL</td>\n",
       "      <td>NaN</td>\n",
       "      <td>0.0</td>\n",
       "      <td>{}</td>\n",
       "      <td>('yorokobi', ['たわけ*CVS'])</td>\n",
       "    </tr>\n",
       "    <tr>\n",
       "      <th>3</th>\n",
       "      <td>1pack8Yennn</td>\n",
       "      <td>2022-09-05 23:59:56</td>\n",
       "      <td>None</td>\n",
       "      <td>@clshiwa_boy えーちゃんさんコロナ大丈夫なんですか？</td>\n",
       "      <td>NaN</td>\n",
       "      <td>NaN</td>\n",
       "      <td>NaN</td>\n",
       "      <td>NaN</td>\n",
       "      <td>NaN</td>\n",
       "      <td>NaN</td>\n",
       "      <td>NaN</td>\n",
       "    </tr>\n",
       "    <tr>\n",
       "      <th>4</th>\n",
       "      <td>2142rrrrrrrrrrr</td>\n",
       "      <td>2022-09-05 23:59:54</td>\n",
       "      <td>None</td>\n",
       "      <td>ここだけの話、コロナ始まってから自宅で手洗いうがいしたこと一度もない🤭</td>\n",
       "      <td>NaN</td>\n",
       "      <td>NaN</td>\n",
       "      <td>NaN</td>\n",
       "      <td>NaN</td>\n",
       "      <td>NaN</td>\n",
       "      <td>NaN</td>\n",
       "      <td>NaN</td>\n",
       "    </tr>\n",
       "  </tbody>\n",
       "</table>\n",
       "</div>"
      ],
      "text/plain": [
       "           sc_name             datetime location  \\\n",
       "0          DONDELI  2022-09-05 23:59:58     None   \n",
       "1       kotori_121  2022-09-05 23:59:57     None   \n",
       "2  Gypsy_tanabecci  2022-09-05 23:59:56     None   \n",
       "3      1pack8Yennn  2022-09-05 23:59:56     None   \n",
       "4  2142rrrrrrrrrrr  2022-09-05 23:59:54     None   \n",
       "\n",
       "                                                text  \\\n",
       "0  2022年9月5日「小野昌弘先生 新型コロナ勉強会」 https://t.co/lQ7yXo...   \n",
       "1                                      コロナほぼ治った〜〜！！！   \n",
       "2  @anne82270281 ケンブリッジ方面かな。出身校はオックスフォードらしいですけどね。...   \n",
       "3                   @clshiwa_boy えーちゃんさんコロナ大丈夫なんですか？   \n",
       "4                ここだけの話、コロナ始まってから自宅で手洗いうがいしたこと一度もない🤭   \n",
       "\n",
       "                                             emotion      orientation  \\\n",
       "0                                                NaN              NaN   \n",
       "1                                                NaN              NaN   \n",
       "2  defaultdict(<class 'list'>, {'yorokobi': ['たわけ...  mostly_POSITIVE   \n",
       "3                                                NaN              NaN   \n",
       "4                                                NaN              NaN   \n",
       "\n",
       "  activation emoticon  intension intensifier             representative  \n",
       "0        NaN      NaN        NaN         NaN                        NaN  \n",
       "1        NaN      NaN        NaN         NaN                        NaN  \n",
       "2    NEUTRAL      NaN        0.0          {}  ('yorokobi', ['たわけ*CVS'])  \n",
       "3        NaN      NaN        NaN         NaN                        NaN  \n",
       "4        NaN      NaN        NaN         NaN                        NaN  "
      ]
     },
     "execution_count": 8,
     "metadata": {},
     "output_type": "execute_result"
    }
   ],
   "source": [
    "import pandas as pd\n",
    "import csv\n",
    "import os\n",
    "import glob\n",
    "import tqdm\n",
    "import numpy as np\n",
    "from mlask import MLAsk\n",
    "\n",
    "emotion_analyzer = MLAsk()\n",
    "\n",
    "fileDate = \"09-05\" # ファイルの日付を指定\n",
    "path = \"/Users/soeyamashunsuke/Library/CloudStorage/OneDrive-福岡工業大学/ゼミ/Twitter API/conv-csvリプライ有り/api_%s-conv.csv\" % fileDate\n",
    "\n",
    "originalData = []\n",
    "analyzedData = []\n",
    "errorCount = 0\n",
    "\n",
    "with open (path) as f:\n",
    "    reader = csv.reader(f) # 一行ずつ読み込む\n",
    "    for row in reader:\n",
    "        originalData.append(row)\n",
    "f.close()\n",
    "\n",
    "for i in tqdm.tqdm(range(1, len(originalData))):\n",
    "        try:\n",
    "            result = emotion_analyzer.analyze(originalData[i][3])\n",
    "            analyzedData.append(result)\n",
    "        except:\n",
    "            print('%s行目：書式が崩れている可能性があります。' % i)\n",
    "            errorCount += 1\n",
    "\n",
    "if errorCount != 0:\n",
    "    print('合計%s個のエラーが見つかりました。元データを確認して該当の行を削除してください' % errorCount)\n",
    "    \n",
    "    \n",
    "df = pd.DataFrame(analyzedData, columns=None)\n",
    "df.to_csv('/Users/soeyamashunsuke/Library/CloudStorage/OneDrive-福岡工業大学/ゼミ/Twitter API/ML-Ask/ML-Ask-%s.csv' % fileDate, encoding='utf-8-sig')\n",
    "# df.head()\n",
    "\n",
    "# 2つのcsvファイルを編集して結合\n",
    "df_api = pd.read_csv('/Users/soeyamashunsuke/Library/CloudStorage/OneDrive-福岡工業大学/ゼミ/Twitter API/conv-csvリプライ有り/api_%s-conv.csv' % fileDate, encoding='utf-8')\n",
    "df_result = pd.read_csv('/Users/soeyamashunsuke/Library/CloudStorage/OneDrive-福岡工業大学/ゼミ/Twitter API/ML-Ask/ML-Ask-%s.csv' % fileDate, encoding='utf-8',index_col=0 )\n",
    "df_result = df_result.drop('text', axis=1)\n",
    "df_con = pd.concat([df_api, df_result], axis=1)\n",
    "df_con.to_csv('/Users/soeyamashunsuke/Library/CloudStorage/OneDrive-福岡工業大学/ゼミ/Twitter API/ML-Ask-conv/ML-Ask-%s-conv.csv' % fileDate)\n",
    "df_con.head()"
   ]
  },
  {
   "cell_type": "code",
   "execution_count": null,
   "id": "0114a675",
   "metadata": {},
   "outputs": [],
   "source": []
  }
 ],
 "metadata": {
  "kernelspec": {
   "display_name": "Python 3 (ipykernel)",
   "language": "python",
   "name": "python3"
  },
  "language_info": {
   "codemirror_mode": {
    "name": "ipython",
    "version": 3
   },
   "file_extension": ".py",
   "mimetype": "text/x-python",
   "name": "python",
   "nbconvert_exporter": "python",
   "pygments_lexer": "ipython3",
   "version": "3.9.12"
  }
 },
 "nbformat": 4,
 "nbformat_minor": 5
}
